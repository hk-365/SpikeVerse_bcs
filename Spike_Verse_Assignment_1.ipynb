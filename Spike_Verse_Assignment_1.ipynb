{
  "nbformat": 4,
  "nbformat_minor": 0,
  "metadata": {
    "colab": {
      "provenance": []
    },
    "kernelspec": {
      "name": "python3",
      "display_name": "Python 3"
    },
    "language_info": {
      "name": "python"
    }
  },
  "cells": [
    {
      "cell_type": "markdown",
      "source": [
        "#Task 1: Tabular Q-Learning Update"
      ],
      "metadata": {
        "id": "Y3acaPfftEUl"
      }
    },
    {
      "cell_type": "code",
      "source": [
        "import numpy as np"
      ],
      "metadata": {
        "id": "MbBpgqDMtE8U"
      },
      "execution_count": 1,
      "outputs": []
    },
    {
      "cell_type": "markdown",
      "source": [
        "Defining q table as a a NumPy array of zeros with shape (n_states​,n_actions​)."
      ],
      "metadata": {
        "id": "F2BWWWJOtPJf"
      }
    },
    {
      "cell_type": "code",
      "source": [
        "def init_q_table(n_states,n_actions):\n",
        "  return np.zeroes((n_states,n_actions))"
      ],
      "metadata": {
        "id": "EYnwZYQHtHZS"
      },
      "execution_count": 2,
      "outputs": []
    },
    {
      "cell_type": "markdown",
      "source": [
        "Defining function to update q table"
      ],
      "metadata": {
        "id": "6UJ9Qe7xtSNH"
      }
    },
    {
      "cell_type": "code",
      "source": [
        "def q_update(Q, s, a, r, s_next, alpha, gamma):\n",
        "  max_q_next=np.max(Q[s_next])\n",
        "  Q[s,a]=Q[s,a]+alpha*[r+gamma*max_q_next-Q[s,a]]\n",
        "  return Q"
      ],
      "metadata": {
        "id": "6mkpTurOtM2u"
      },
      "execution_count": 3,
      "outputs": []
    },
    {
      "cell_type": "markdown",
      "source": [
        "#Task 2: ε-Greedy Policy on a Custom GridWorld"
      ],
      "metadata": {
        "id": "uSa1nPvctXQZ"
      }
    },
    {
      "cell_type": "code",
      "source": [
        "import numpy as np\n",
        "import matplotlib.pyplot as plt\n",
        "import random"
      ],
      "metadata": {
        "id": "Z9BfoB9PtdQN"
      },
      "execution_count": 26,
      "outputs": []
    },
    {
      "cell_type": "markdown",
      "source": [
        "Defining the Grid environment (4*4 grid) with two terminal states (with reward 100 and -100) and default reward for each step as -1. The action space includes up/down/left/right actions."
      ],
      "metadata": {
        "id": "JxZr507QtpUl"
      }
    },
    {
      "cell_type": "code",
      "source": [
        "actions = ['UP', 'DOWN', 'LEFT', 'RIGHT']\n",
        "class GridEnv:\n",
        "  def __init__(self):\n",
        "    self.width=4\n",
        "    self.height=4\n",
        "    self.victory=(3,3)\n",
        "    self.reset()\n",
        "\n",
        "  def reset(self):\n",
        "    self.agent=self.random_empty_cell()\n",
        "    self.reward=0\n",
        "    self.done=False\n",
        "    return self.agent\n",
        "\n",
        "  def random_empty_cell(self):\n",
        "    while True:\n",
        "      pos = (random.randint(0, self.width - 1), random.randint(0, self.height - 1))\n",
        "      return pos\n",
        "\n",
        "  def step(self,action):\n",
        "    x, y = self.agent\n",
        "    if action=='UP':\n",
        "      y-= 1\n",
        "    elif action=='DOWN':\n",
        "      y+= 1\n",
        "    elif action=='LEFT':\n",
        "      x-= 1\n",
        "    elif action=='RIGHT':\n",
        "      x+= 1\n",
        "    new_pos = (x, y)\n",
        "    if 0 <=x<self.width and 0<=y< self.height and new_pos:\n",
        "      self.agent= new_pos\n",
        "    reward = -1\n",
        "    done= False\n",
        "\n",
        "    if self.agent== self.victory:\n",
        "      reward= 100\n",
        "      done= True\n",
        "    return self.agent,reward,done"
      ],
      "metadata": {
        "id": "F_LNhIf3tglH"
      },
      "execution_count": 30,
      "outputs": []
    },
    {
      "cell_type": "markdown",
      "source": [
        "Defining the Q_table learning function using epsilon greedy policy where with probability epsilon select a random action while with probability 1−epsilon, select the action with the highest Q-value for the given state."
      ],
      "metadata": {
        "id": "wHzi9Y3-tqzn"
      }
    },
    {
      "cell_type": "code",
      "source": [
        "alpha= 0.1\n",
        "gamma= 0.9\n",
        "\n",
        "def init_q_table(n_states,n_actions):\n",
        "  return np.zeros((n_states,n_actions))\n",
        "\n",
        "def q_update(Q, s, a, r, s_next, alpha, gamma):\n",
        "  max_q_next=np.max(Q[s_next])\n",
        "  Q[s,a]=Q[s,a]+alpha*(r+ gamma*max_q_next -Q[s,a])\n",
        "  return Q\n",
        "\n",
        "def select_action(Q, state,epsilon):\n",
        "  if np.random.rand()< epsilon:\n",
        "    return random.randint(0,len(actions)-1)\n",
        "  else:\n",
        "    return np.argmax(Q[state])\n",
        "\n",
        "def q_learning(env,epsilon):\n",
        "  Q=init_q_table(16,4)\n",
        "  reward_per_episode=[]\n",
        "  episode_count=0\n",
        "  num_episodes=500\n",
        "  total_reward=0\n",
        "  while episode_count< num_episodes:\n",
        "    state = env.reset()\n",
        "    total_reward = 0\n",
        "    done = False\n",
        "\n",
        "    while not done:\n",
        "      state_index = state[0]*env.width + state[1]\n",
        "      action_index=select_action(Q,state_index,epsilon)\n",
        "      action= actions[action_index]\n",
        "      next_state,reward,done = env.step(action)\n",
        "      next_state_index=next_state[0]*env.width + next_state[1]\n",
        "      q_update(Q,state_index,action_index,reward,next_state_index,alpha,gamma)\n",
        "      state= next_state\n",
        "      total_reward += reward\n",
        "\n",
        "    reward_per_episode.append(total_reward)\n",
        "    episode_count+=1\n",
        "    if episode_count%50==0:\n",
        "      print(f\"episode {episode_count} done\")\n",
        "\n",
        "  return reward_per_episode\n"
      ],
      "metadata": {
        "id": "UDRBM4OqthMX"
      },
      "execution_count": 31,
      "outputs": []
    },
    {
      "cell_type": "markdown",
      "source": [
        "Training and updating the Q_table. Ploting moving average of reward over 50 episodes with different epsilon."
      ],
      "metadata": {
        "id": "NxRqavR6tuV-"
      }
    },
    {
      "cell_type": "code",
      "source": [
        "env = GridEnv()\n",
        "rewards1= q_learning(env,0.1)\n",
        "rewards2= q_learning(env,0.2)\n",
        "window_size =50\n",
        "moving_average_reward1= np.convolve(rewards1, np.ones(window_size)/window_size, mode='valid')\n",
        "moving_average_reward2= np.convolve(rewards2, np.ones(window_size)/window_size, mode='valid')\n",
        "\n",
        "episodes = np.arange(len(moving_average_reward1)) + window_size // 2\n",
        "plt.plot(episodes,moving_average_reward1,label='Epsilon=0.1',color='blue')\n",
        "plt.plot(episodes,moving_average_reward2,label='Epsilon=0.2',color='orange')\n",
        "plt.xlabel('Episode')\n",
        "plt.ylabel('Moving avg of reward')\n",
        "plt.title('Moving average reward for diff epsilon values')\n",
        "plt.legend()\n",
        "plt.grid(True)\n",
        "plt.show()\n"
      ],
      "metadata": {
        "colab": {
          "base_uri": "https://localhost:8080/",
          "height": 819
        },
        "id": "lYsvvYkVtj1I",
        "outputId": "436ea30d-1b6e-4e6c-8448-9e64aed7efbb"
      },
      "execution_count": 32,
      "outputs": [
        {
          "output_type": "stream",
          "name": "stdout",
          "text": [
            "episode 50 done\n",
            "episode 100 done\n",
            "episode 150 done\n",
            "episode 200 done\n",
            "episode 250 done\n",
            "episode 300 done\n",
            "episode 350 done\n",
            "episode 400 done\n",
            "episode 450 done\n",
            "episode 500 done\n",
            "episode 50 done\n",
            "episode 100 done\n",
            "episode 150 done\n",
            "episode 200 done\n",
            "episode 250 done\n",
            "episode 300 done\n",
            "episode 350 done\n",
            "episode 400 done\n",
            "episode 450 done\n",
            "episode 500 done\n"
          ]
        },
        {
          "output_type": "display_data",
          "data": {
            "text/plain": [
              "<Figure size 640x480 with 1 Axes>"
            ],
            "image/png": "[encoded data removed]"
          },
          "metadata": {}
        }
      ]
    },
    {
      "cell_type": "markdown",
      "source": [
        "Epsilon=0.1 shows better moving average reward\n",
        "\n",
        "Lower epsilon means less exploration, more exploitation once a good policy is learned.\n",
        "\n",
        "At the start, exploration is valuable — hence both curves rise.\n",
        "\n",
        "But over time, excessive exploration (epsilon=0.2) leads to occasional random moves, causing dips and a lower average reward.\n",
        "\n",
        "Epsilon=0.1 strikes a better balance by exploring enough at the start, then focusing on exploiting the best known actions.\n",
        "\n"
      ],
      "metadata": {
        "id": "_e14_XP_tyiF"
      }
    },
    {
      "cell_type": "markdown",
      "source": [
        "#Task 3: Experience Replay Buffer"
      ],
      "metadata": {
        "id": "1iwO4_Klt4M7"
      }
    },
    {
      "cell_type": "code",
      "source": [
        "import numpy as np\n",
        "import matplotlib.pyplot as plt\n",
        "from collections import deque\n",
        "import random\n",
        "import torch\n",
        "from torch import nn\n",
        "import torch.nn.functional as F"
      ],
      "metadata": {
        "id": "8WQURtRht9Wq"
      },
      "execution_count": 8,
      "outputs": []
    },
    {
      "cell_type": "markdown",
      "source": [
        "Creating a class of ReplayBuffer"
      ],
      "metadata": {
        "id": "EHDiZyhMt_us"
      }
    },
    {
      "cell_type": "code",
      "source": [
        "class ReplayBuffer():\n",
        "  def __init__(self,capacity):\n",
        "    self.memory=deque([],maxlen=capacity)\n",
        "\n",
        "  def push(self, state, action, reward, next_state, done):\n",
        "    transition = (state, action, reward, next_state, done)\n",
        "    self.memory.append(transition)\n",
        "\n",
        "  def sample(self,batch_size):\n",
        "    batch= random.sample(self.memory,batch_size)\n",
        "    states, actions, rewards, next_states, dones = zip(*batch)\n",
        "\n",
        "    return (np.array(states),\n",
        "            np.array(actions),\n",
        "            np.array(rewards, dtype=np.float32),\n",
        "            np.array(next_states),\n",
        "            np.array(dones,dtype=np.uint8))\n",
        "\n",
        "\n",
        "  def __len__(self):\n",
        "    return len(self.memory)\n"
      ],
      "metadata": {
        "id": "erJwc-zcuCeY"
      },
      "execution_count": 9,
      "outputs": []
    },
    {
      "cell_type": "markdown",
      "source": [
        "Buffer Demonstration"
      ],
      "metadata": {
        "id": "QOlZdMdNuEoN"
      }
    },
    {
      "cell_type": "code",
      "source": [
        "buffer = ReplayBuffer(capacity=100)\n",
        "for i in range(100):\n",
        "  state=random.randint(0,15)\n",
        "  action=random.randint(0,3)\n",
        "  reward=random.uniform(-1.0,100.0)\n",
        "  next_state=random.randint(0,15)\n",
        "  done=random.choice([True, False])\n",
        "  buffer.push(state, action, reward, next_state, done)\n",
        "\n",
        "states, actions, rewards, next_states, dones = buffer.sample(32)\n",
        "\n",
        "print(\"States shape:\", states.shape, \"dtype:\", states.dtype)\n",
        "print(\"Actions shape:\", actions.shape, \"dtype:\", actions.dtype)\n",
        "print(\"Rewards shape:\", rewards.shape, \"dtype:\", rewards.dtype)\n",
        "print(\"Next_states shape:\", next_states.shape, \"dtype:\", next_states.dtype)\n",
        "print(\"Dones shape:\", dones.shape, \"dtype:\", dones.dtype)"
      ],
      "metadata": {
        "colab": {
          "base_uri": "https://localhost:8080/"
        },
        "id": "Jcp3Q_7JuHRB",
        "outputId": "5e469da2-df10-4bb7-d33e-2364df05c630"
      },
      "execution_count": 10,
      "outputs": [
        {
          "output_type": "stream",
          "name": "stdout",
          "text": [
            "States shape: (32,) dtype: int64\n",
            "Actions shape: (32,) dtype: int64\n",
            "Rewards shape: (32,) dtype: float32\n",
            "Next_states shape: (32,) dtype: int64\n",
            "Dones shape: (32,) dtype: uint8\n"
          ]
        }
      ]
    },
    {
      "cell_type": "markdown",
      "source": [
        "#Task 4: Deep Q-Network with Target Copy"
      ],
      "metadata": {
        "id": "Gw6JFy5VuJUU"
      }
    },
    {
      "cell_type": "code",
      "source": [
        "import numpy as np\n",
        "import torch\n",
        "from torch import nn"
      ],
      "metadata": {
        "id": "reOXR2pouM0p"
      },
      "execution_count": 11,
      "outputs": []
    },
    {
      "cell_type": "code",
      "source": [
        "class DQNPolicy(nn.Module):\n",
        "  def __init__(self, N_input, N_output, N_hidden=128):\n",
        "    super().__init__()\n",
        "    activation=nn.ReLU()   #using Relu activation function\n",
        "    self.fcs = nn.Sequential(nn.Linear(N_input, N_hidden))\n",
        "\n",
        "    self.fch= nn.Sequential(nn.Linear(N_hidden, N_hidden),\n",
        "                            activation,\n",
        "                            nn.Linear(N_hidden, N_hidden))\n",
        "\n",
        "    self.fce= nn.Linear(N_hidden,N_output)\n",
        "  def forward(self,x):\n",
        "    x=self.fcs(x)\n",
        "    x=self.fch(x)\n",
        "    x=self.fce(x)\n",
        "    return x"
      ],
      "metadata": {
        "id": "e6ypPrtTuP3d"
      },
      "execution_count": 12,
      "outputs": []
    },
    {
      "cell_type": "code",
      "source": [
        "class DQNTarget(nn.Module):\n",
        "  def __init__(self, N_input, N_output, N_hidden=128):\n",
        "    super().__init__()\n",
        "    activation=nn.ReLU()   #using Relu activation function\n",
        "    self.fcs = nn.Sequential(nn.Linear(N_input, N_hidden))\n",
        "\n",
        "    self.fch= nn.Sequential(nn.Linear(N_hidden, N_hidden),\n",
        "                            activation,\n",
        "                            nn.Sequential(nn.Linear(N_hidden, N_hidden)))\n",
        "\n",
        "    self.fce= nn.Linear(N_hidden,N_output)\n",
        "  def forward(self,x):\n",
        "    x=self.fcs(x)\n",
        "    x=self.fch(x)\n",
        "    x=self.fce(x)\n",
        "    return x"
      ],
      "metadata": {
        "id": "c-ylxkxquRkj"
      },
      "execution_count": 13,
      "outputs": []
    },
    {
      "cell_type": "markdown",
      "source": [
        "Function that copies the weights from the policy_net to the target_net"
      ],
      "metadata": {
        "id": "dakWMI_muThD"
      }
    },
    {
      "cell_type": "code",
      "source": [
        "def update_target(policy_net, target_net):\n",
        "  target_net.load_state_dict(policy_net.state_dict())"
      ],
      "metadata": {
        "id": "brPemU1cuVsG"
      },
      "execution_count": 14,
      "outputs": []
    },
    {
      "cell_type": "markdown",
      "source": [
        "#Task 5: Full DQN Training Loop on CartPole-v1"
      ],
      "metadata": {
        "id": "hVgW5aPCuZT5"
      }
    },
    {
      "cell_type": "code",
      "source": [
        "import gymnasium as gym\n",
        "import numpy as np\n",
        "import torch\n",
        "from torch import nn\n",
        "from collections import deque\n",
        "import random\n",
        "import torch.nn.functional as F\n"
      ],
      "metadata": {
        "id": "v3V0UUA_ucnx"
      },
      "execution_count": 15,
      "outputs": []
    },
    {
      "cell_type": "markdown",
      "source": [
        "CartPole-v1 environment"
      ],
      "metadata": {
        "id": "hG-vdM9xufu4"
      }
    },
    {
      "cell_type": "code",
      "source": [
        "env= gym.make(\"CartPole-v1\")\n",
        "N_input= env.observation_space.shape[0]\n",
        "N_output= env.action_space.n"
      ],
      "metadata": {
        "id": "w4xplHUDuitZ"
      },
      "execution_count": 16,
      "outputs": []
    },
    {
      "cell_type": "markdown",
      "source": [
        "Initialize DQNPolicy and DQNTarget networks"
      ],
      "metadata": {
        "id": "TDrhE7eCukt-"
      }
    },
    {
      "cell_type": "code",
      "source": [
        "class DQNPolicy(nn.Module):\n",
        "  def __init__(self, N_input, N_output, N_hidden=128):\n",
        "    super().__init__()\n",
        "    activation=nn.ReLU()   #using Relu activation function\n",
        "    self.fcs = nn.Sequential(nn.Linear(N_input, N_hidden))\n",
        "\n",
        "    self.fch= nn.Sequential(nn.Linear(N_hidden, N_hidden),\n",
        "                            activation,\n",
        "                            nn.Linear(N_hidden, N_hidden))\n",
        "\n",
        "    self.fce= nn.Linear(N_hidden,N_output)\n",
        "  def forward(self,x):\n",
        "    x=self.fcs(x)\n",
        "    x=self.fch(x)\n",
        "    x=self.fce(x)\n",
        "    return x"
      ],
      "metadata": {
        "id": "RiF6pMUeumqp"
      },
      "execution_count": 17,
      "outputs": []
    },
    {
      "cell_type": "code",
      "source": [
        "class DQNTarget(nn.Module):\n",
        "  def __init__(self, N_input, N_output, N_hidden=128):\n",
        "    super().__init__()\n",
        "    activation=nn.ReLU()   #using Relu activation function\n",
        "    self.fcs = nn.Sequential(nn.Linear(N_input, N_hidden))\n",
        "\n",
        "    self.fch= nn.Sequential(nn.Linear(N_hidden, N_hidden),\n",
        "                            activation,\n",
        "                            nn.Linear(N_hidden, N_hidden))\n",
        "\n",
        "    self.fce= nn.Linear(N_hidden,N_output)\n",
        "  def forward(self,x):\n",
        "    x=self.fcs(x)\n",
        "    x=self.fch(x)\n",
        "    x=self.fce(x)\n",
        "    return x"
      ],
      "metadata": {
        "id": "4aPhsYL0uowv"
      },
      "execution_count": 18,
      "outputs": []
    },
    {
      "cell_type": "code",
      "source": [
        "def update_target(policy_net, target_net):\n",
        "  target_net.load_state_dict(policy_net.state_dict())"
      ],
      "metadata": {
        "id": "n9tJFp6JusLG"
      },
      "execution_count": 19,
      "outputs": []
    },
    {
      "cell_type": "code",
      "source": [
        "policy_net= DQNPolicy(N_input, N_output)\n",
        "target_net= DQNTarget(N_input, N_output)\n",
        "update_target(policy_net, target_net)\n",
        "\n",
        "optimizer= torch.optim.Adam(policy_net.parameters(),lr=1e-3)\n",
        "\n",
        "loss_fn= nn.MSELoss()"
      ],
      "metadata": {
        "id": "PxhYD3tquswJ"
      },
      "execution_count": 20,
      "outputs": []
    },
    {
      "cell_type": "markdown",
      "source": [
        "Initialize ReplayBuffer"
      ],
      "metadata": {
        "id": "4YmhhmScuurC"
      }
    },
    {
      "cell_type": "code",
      "source": [
        "class ReplayBuffer():\n",
        "  def __init__(self,capacity):\n",
        "    self.memory=deque([],maxlen=capacity)\n",
        "\n",
        "  def push(self, state, action, reward, next_state, done):\n",
        "    transition = (state, action, reward, next_state, done)\n",
        "    self.memory.append(transition)\n",
        "\n",
        "  def sample(self,batch_size):\n",
        "    batch= random.sample(self.memory,batch_size)\n",
        "    states, actions, rewards, next_states, dones = zip(*batch)\n",
        "\n",
        "    return (np.array(states),\n",
        "            np.array(actions),\n",
        "            np.array(rewards, dtype=np.float32),\n",
        "            np.array(next_states),\n",
        "            np.array(dones,dtype=np.uint8))\n",
        "\n",
        "\n",
        "  def __len__(self):\n",
        "    return len(self.memory)\n",
        "\n",
        "buffer_capacity= 10000\n",
        "replay_buffer= ReplayBuffer(buffer_capacity)"
      ],
      "metadata": {
        "id": "fGCuq9JruxAg"
      },
      "execution_count": 21,
      "outputs": []
    },
    {
      "cell_type": "markdown",
      "source": [
        "Training Loop"
      ],
      "metadata": {
        "id": "-lIVE6MNu1T-"
      }
    },
    {
      "cell_type": "code",
      "source": [
        "#Hyperparameters\n",
        "N_episodes=500\n",
        "batch_size=64\n",
        "gamma=0.99\n",
        "epsilon_start=1.0\n",
        "epsilon_end=0.01\n",
        "M=N_episodes  # epsilon decay rate over episodes\n",
        "update_target_every=20\n",
        "\n",
        "#training loop\n",
        "rewards_per_episode=[]\n",
        "success_count=0\n",
        "\n",
        "for episode in range(N_episodes):\n",
        "  state=env.reset()[0]\n",
        "  done =False\n",
        "\n",
        "  epsilon= epsilon_end+(epsilon_start-epsilon_end)*(1- episode/M)\n",
        "  total_reward=0\n",
        "\n",
        "  while not done:\n",
        "    #epsilon greedy policy\n",
        "    if random.random()< epsilon:\n",
        "      action= env.action_space.sample()\n",
        "    else:\n",
        "      state_tensor= torch.FloatTensor(state).unsqueeze(0)\n",
        "      q_values= policy_net(state_tensor)\n",
        "      action= q_values.argmax().item()\n",
        "    next_state,reward,done,truncated, _ = env.step(action)\n",
        "    total_reward+=reward\n",
        "    #store in replay buffer\n",
        "    replay_buffer.push(state, action,reward, next_state, done)\n",
        "    state=next_state\n",
        "    # Train if buffer has enough samples\n",
        "    if len(replay_buffer) >= batch_size:\n",
        "      states, actions, rewards, next_states, dones = replay_buffer.sample(batch_size)\n",
        "\n",
        "      states = torch.FloatTensor(states)\n",
        "      actions = torch.LongTensor(actions)\n",
        "      rewards = torch.FloatTensor(rewards)\n",
        "      next_states = torch.FloatTensor(next_states)\n",
        "      dones = torch.FloatTensor(dones)\n",
        "\n",
        "      # Compute Q-values\n",
        "      q_values= policy_net(states)\n",
        "      q_values= q_values.gather(1, actions.unsqueeze(1)).squeeze()    #picks the Q-value corresponding to the action that was actually taken\n",
        "\n",
        "      # Compute target Q-values\n",
        "      with torch.no_grad():\n",
        "        next_q_values= target_net(next_states).max(1)[0]   #takes the maximum Q-value over all possible actions for each next state\n",
        "        target_q_values= rewards+ gamma* next_q_values* (1 - dones)   #zero out the future reward if the episode terminated at this step\n",
        "\n",
        "      # Compute loss\n",
        "      loss= loss_fn(q_values,target_q_values)\n",
        "\n",
        "      # Gradient step\n",
        "      optimizer.zero_grad()\n",
        "      loss.backward()\n",
        "      optimizer.step()\n",
        "\n",
        "  rewards_per_episode.append(total_reward)\n",
        "\n",
        "  # Success tracking\n",
        "  if total_reward>= 195:\n",
        "    success_count+= 1\n",
        "\n",
        "  # Update target network\n",
        "  if (episode+1)%update_target_every==0:\n",
        "    update_target(policy_net, target_net)\n",
        "\n",
        "  if (episode+ 1)%50==0:\n",
        "    print(f\"Episode {episode+1}, Reward: {total_reward}, Epsilon: {epsilon:.3f}\")"
      ],
      "metadata": {
        "colab": {
          "base_uri": "https://localhost:8080/"
        },
        "id": "iAWHzpHNu3R5",
        "outputId": "3c203a47-1fe5-45fc-f5b9-6834565b5cb4"
      },
      "execution_count": 22,
      "outputs": [
        {
          "output_type": "stream",
          "name": "stdout",
          "text": [
            "Episode 50, Reward: 47.0, Epsilon: 0.903\n",
            "Episode 100, Reward: 22.0, Epsilon: 0.804\n",
            "Episode 150, Reward: 13.0, Epsilon: 0.705\n",
            "Episode 200, Reward: 26.0, Epsilon: 0.606\n",
            "Episode 250, Reward: 39.0, Epsilon: 0.507\n",
            "Episode 300, Reward: 63.0, Epsilon: 0.408\n",
            "Episode 350, Reward: 160.0, Epsilon: 0.309\n",
            "Episode 400, Reward: 331.0, Epsilon: 0.210\n",
            "Episode 450, Reward: 140.0, Epsilon: 0.111\n",
            "Episode 500, Reward: 143.0, Epsilon: 0.012\n"
          ]
        }
      ]
    },
    {
      "cell_type": "markdown",
      "source": [
        "Plot Moving average reward"
      ],
      "metadata": {
        "id": "Y3j6_UXDu8YF"
      }
    },
    {
      "cell_type": "code",
      "source": [
        "import matplotlib.pyplot as plt\n",
        "# Moving average of rewards\n",
        "window_size= N_episodes// 10\n",
        "moving_avg= np.convolve(rewards_per_episode, np.ones(window_size)/ window_size, mode='valid')\n",
        "\n",
        "# Plot\n",
        "plt.plot(moving_avg)\n",
        "plt.xlabel('Episode')\n",
        "plt.ylabel(f'Moving Average (window size {window_size})')\n",
        "plt.title('Moving Average Reward over Episodes')\n",
        "plt.grid(True)\n",
        "plt.show()\n",
        "\n",
        "# Final success rate\n",
        "success_rate= (success_count/N_episodes)* 100\n",
        "print(f\"Final success rate: {success_rate:.2f}% of episodes reached >= 195 reward.\")"
      ],
      "metadata": {
        "colab": {
          "base_uri": "https://localhost:8080/",
          "height": 489
        },
        "id": "2Doj2qBMu9qa",
        "outputId": "06f5223d-1145-4300-8cc6-4b092a72de19"
      },
      "execution_count": 23,
      "outputs": [
        {
          "output_type": "display_data",
          "data": {
            "text/plain": [
              "<Figure size 640x480 with 1 Axes>"
            ],
            "image/png": "[encoded data removed]"
          },
          "metadata": {}
        },
        {
          "output_type": "stream",
          "name": "stdout",
          "text": [
            "Final success rate: 8.20% of episodes reached >= 195 reward.\n"
          ]
        }
      ]
    }
  ]
}